{
  "nbformat": 4,
  "nbformat_minor": 0,
  "metadata": {
    "colab": {
      "name": "helloWorl.ipynb",
      "provenance": [],
      "authorship_tag": "ABX9TyNIaNwB8wqKX5lk80VKUjaf",
      "include_colab_link": true
    },
    "kernelspec": {
      "name": "python3",
      "display_name": "Python 3"
    },
    "language_info": {
      "name": "python"
    }
  },
  "cells": [
    {
      "cell_type": "markdown",
      "metadata": {
        "id": "view-in-github",
        "colab_type": "text"
      },
      "source": [
        "<a href=\"https://colab.research.google.com/github/Yerlis09/Yerlys_CastellarJulio_KC/blob/main/helloWorl.ipynb\" target=\"_parent\"><img src=\"https://colab.research.google.com/assets/colab-badge.svg\" alt=\"Open In Colab\"/></a>"
      ]
    },
    {
      "cell_type": "markdown",
      "metadata": {
        "id": "fUCp0By2NX6G"
      },
      "source": [
        "#*PROBANDO CON UN HELLO WORL*"
      ]
    },
    {
      "cell_type": "code",
      "metadata": {
        "id": "iwghgNlUNc3h"
      },
      "source": [
        "print('hello worl')"
      ],
      "execution_count": null,
      "outputs": []
    }
  ]
}
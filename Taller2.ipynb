{
  "nbformat": 4,
  "nbformat_minor": 0,
  "metadata": {
    "colab": {
      "name": "Taller2.ipynb",
      "provenance": [],
      "collapsed_sections": [],
      "authorship_tag": "ABX9TyNy4C0SzVMGp8C+kkgI2GKT",
      "include_colab_link": true
    },
    "kernelspec": {
      "name": "python3",
      "display_name": "Python 3"
    },
    "language_info": {
      "name": "python"
    }
  },
  "cells": [
    {
      "cell_type": "markdown",
      "metadata": {
        "id": "view-in-github",
        "colab_type": "text"
      },
      "source": [
        "<a href=\"https://colab.research.google.com/github/Yerlis09/Yerlys_CastellarJulio_KC/blob/main/Taller2.ipynb\" target=\"_parent\"><img src=\"https://colab.research.google.com/assets/colab-badge.svg\" alt=\"Open In Colab\"/></a>"
      ]
    },
    {
      "cell_type": "markdown",
      "metadata": {
        "id": "gKfooepHwwHV"
      },
      "source": [
        "***Yerlys María Castellar Julio***"
      ]
    },
    {
      "cell_type": "markdown",
      "metadata": {
        "id": "yqGG31M0WJiY"
      },
      "source": [
        "**Taller 2 – Python**\n",
        "*- Numeros palíndromos:*\n",
        "Escriba una función que reciba un numero entero (positivo) o un String y entregue como \n",
        "respuesta si la entrada es o no un palíndromo.\n"
      ]
    },
    {
      "cell_type": "code",
      "metadata": {
        "id": "A38XNex6o5EI"
      },
      "source": [
        "def polindromo(palabra1):\n",
        "  if(palabra1<'0'):\n",
        "    print('Ingrese un numero entero Positivo')\n",
        "  else:\n",
        "    nueva_palabra = ''.join(reversed(palabra1))\n",
        "    if (palabra1.replace(\" \", \"\") == nueva_palabra.replace(\" \", \"\")):\n",
        "      print('la palabra es polindromo')\n",
        "      return True\n",
        "    else: \n",
        "      print('la palabra no es polindroma')\n",
        "      return False"
      ],
      "execution_count": null,
      "outputs": []
    },
    {
      "cell_type": "code",
      "metadata": {
        "colab": {
          "base_uri": "https://localhost:8080/"
        },
        "id": "1yanrxPto8F8",
        "outputId": "d2de8adb-7cb3-49c5-a38c-da203f96b7a1"
      },
      "source": [
        "palabra = input('Ingrese una palabra, por favor: ')\n",
        "print('--------------------------------')\n",
        "print(polindromo(palabra))"
      ],
      "execution_count": null,
      "outputs": [
        {
          "output_type": "stream",
          "text": [
            "Ingrese una palabra, por favor: 0\n",
            "--------------------------------\n",
            "la palabra es polindromo\n",
            "True\n"
          ],
          "name": "stdout"
        }
      ]
    },
    {
      "cell_type": "markdown",
      "metadata": {
        "id": "hc_D0WQ8pAVG"
      },
      "source": [
        " ***Numeros primos:***\n",
        "Escriba una función que reciba como entrada un número y determine si es o no un numero \n",
        "primo. "
      ]
    },
    {
      "cell_type": "code",
      "metadata": {
        "id": "qXXIMzCDI1Yj"
      },
      "source": [
        "def esPrimo(numero):\n",
        "    if numero <= 1:\n",
        "        return False\n",
        "    elif numero == 2:\n",
        "        return True\n",
        "    else:\n",
        "        for i in range(2, numero):\n",
        "            if numero % i == 0:\n",
        "                return False\n",
        "        return True "
      ],
      "execution_count": 29,
      "outputs": []
    },
    {
      "cell_type": "code",
      "metadata": {
        "colab": {
          "base_uri": "https://localhost:8080/"
        },
        "id": "oP5oVCYOIyiF",
        "outputId": "8a9dbe6f-e8d2-4298-f79f-e993f140cb03"
      },
      "source": [
        "esPrimo(int(input('Ingrese un numero, por favor: ')))"
      ],
      "execution_count": null,
      "outputs": [
        {
          "output_type": "stream",
          "text": [
            "Ingrese un numero, por favor: 4\n"
          ],
          "name": "stdout"
        },
        {
          "output_type": "execute_result",
          "data": {
            "text/plain": [
              "False"
            ]
          },
          "metadata": {
            "tags": []
          },
          "execution_count": 197
        }
      ]
    },
    {
      "cell_type": "markdown",
      "metadata": {
        "id": "WUzkXmHMyP0Y"
      },
      "source": [
        "***Numeros primos 2:***\n",
        "Escriba una función que devuelva una lista de numeros primos con base a la cantidad que el \n",
        "usuario le solicite, Ejemplo si el usuario ingresa 3 debe retornar los 3 primeros numeros primos."
      ]
    },
    {
      "cell_type": "markdown",
      "metadata": {
        "id": "Iz9NWcwiDO_o"
      },
      "source": [
        "**Profesor para que la funcion *(listaPrimos)* funcione debe ejecutar primero la funcion *(esPrimo)* que se encuentra en el bloque de arriba**\n",
        "\n"
      ]
    },
    {
      "cell_type": "code",
      "metadata": {
        "id": "7s6T6Ip_2oiu"
      },
      "source": [
        "def listaPrimos(cantidad):\n",
        "    arr=[]\n",
        "    for i in range(cantidad*3):\n",
        "        if (len(arr)!=cantidad) and (esPrimo(i)==True):\n",
        "            arr.append(i)\n",
        "    return arr"
      ],
      "execution_count": 30,
      "outputs": []
    },
    {
      "cell_type": "code",
      "metadata": {
        "colab": {
          "base_uri": "https://localhost:8080/"
        },
        "id": "lplXVZse32Tb",
        "outputId": "8f7c1211-a685-4f34-bedf-494877b679c8"
      },
      "source": [
        "ListaPrimos(int(input('ingrese la cantidas de numeros primos a solicitar: ')))"
      ],
      "execution_count": 61,
      "outputs": [
        {
          "output_type": "stream",
          "text": [
            "ingrese la cantidas de numeros primos a solicitar: 2\n"
          ],
          "name": "stdout"
        },
        {
          "output_type": "execute_result",
          "data": {
            "text/plain": [
              "[2, 3]"
            ]
          },
          "metadata": {
            "tags": []
          },
          "execution_count": 61
        }
      ]
    },
    {
      "cell_type": "markdown",
      "metadata": {
        "id": "Z7OLbY4GD6cH"
      },
      "source": [
        "**Numeros primos 3:**\n",
        "El primo de Mersenne es un numero primo de la forma 2\n",
        "𝑝 − 1, una de las propiedades de los \n",
        "primos de Mersenne es que p debe ser también un número primo, escriba una función que\n",
        "imprima la cantidad de numeros que el usuario solicite, Ejemplo: si el usuario ingreso 3 los \n",
        "primeros primos de Mersenne deberían ser 3, 7 y 31."
      ]
    },
    {
      "cell_type": "markdown",
      "metadata": {
        "id": "QaCQkCpkej3_"
      },
      "source": [
        "**Profesor para que la funcion *(listaPrimos)* funcione debe ejecutar primero la funcion *(esPrimo)* que se encuentra en el bloque de arriba**"
      ]
    },
    {
      "cell_type": "code",
      "metadata": {
        "colab": {
          "base_uri": "https://localhost:8080/"
        },
        "id": "cyypnLo_a03x",
        "outputId": "f8a0f183-b869-4a8c-9f76-03ed75bc7c92"
      },
      "source": [
        "def listaMersenne(cantidad):\n",
        "    arr=[]\n",
        "    for i in range(cantidad*50):\n",
        "        if (esPrimo(i)==True):\n",
        "            arr.append(i)\n",
        "    \n",
        "    merse=[]\n",
        "    for i in range(cantidad):\n",
        "        mersenne = math.pow(2,arr[i])-1\n",
        "        if(mersenne in arr):\n",
        "            merse.append(int(mersenne))\n",
        "    return merse\n",
        "\n",
        "listaMersenne(int(input('ingrese la cantidas de numeros primos a solicitar: ')))"
      ],
      "execution_count": 72,
      "outputs": [
        {
          "output_type": "stream",
          "text": [
            "ingrese la cantidas de numeros primos a solicitar: 2\n"
          ],
          "name": "stdout"
        },
        {
          "output_type": "execute_result",
          "data": {
            "text/plain": [
              "[3, 7]"
            ]
          },
          "metadata": {
            "tags": []
          },
          "execution_count": 72
        }
      ]
    },
    {
      "cell_type": "markdown",
      "metadata": {
        "id": "XWzso_7PcI82"
      },
      "source": [
        "**Máximo común divisor:**\n",
        "Escriba una función que reciba dos numeros y retorne el cálculo de su máximo común divisor. "
      ]
    },
    {
      "cell_type": "code",
      "metadata": {
        "id": "ZBjZgBxKcPxS"
      },
      "source": [
        "def mcd(num1, num2):\n",
        "  mcd = 1\n",
        "  if (num1 % num2 == 0):\n",
        "    return num2\n",
        "  for i in range(int(num2/2), 0, -1):\n",
        "    if (num1 % i == 0) and (num2 % i == 0):\n",
        "      mcd = i\n",
        "      break\n",
        "  return mcd\n"
      ],
      "execution_count": 75,
      "outputs": []
    },
    {
      "cell_type": "code",
      "metadata": {
        "colab": {
          "base_uri": "https://localhost:8080/"
        },
        "id": "DyYEegDpmGrO",
        "outputId": "d6bab7e8-5421-4cbc-d590-4020eb73d46d"
      },
      "source": [
        "mcd(16,8)"
      ],
      "execution_count": 85,
      "outputs": [
        {
          "output_type": "execute_result",
          "data": {
            "text/plain": [
              "8"
            ]
          },
          "metadata": {
            "tags": []
          },
          "execution_count": 85
        }
      ]
    },
    {
      "cell_type": "markdown",
      "metadata": {
        "id": "UgcARVrPqzrN"
      },
      "source": [
        "**Numeros romanos:**\n",
        "Escriba una función que reciba un numero y retorne como resultado el numero romano de dicho \n",
        "número. "
      ]
    },
    {
      "cell_type": "code",
      "metadata": {
        "id": "UH6pIzB2q2t3"
      },
      "source": [
        "def convertirARomanos(numero):\n",
        "    numeros = [1000, 900, 500, 400, 100, 90, 50, 40, 10, 9, 5, 4, 1]\n",
        "    romanos = ['M', 'CM', 'D', 'CD', 'C', 'XC', 'L', 'XL', 'X', 'IX', 'V', 'IV', 'I']\n",
        "\n",
        "    conversion = ''\n",
        "    i = 0\n",
        "\n",
        "    while numero > 0: \n",
        "        for _ in range(numero // numeros[i]):\n",
        "            conversion += romanos[i]\n",
        "            numero -= numeros[i]\n",
        "        i+=1\n",
        "        \n",
        "    return conversion"
      ],
      "execution_count": 94,
      "outputs": []
    },
    {
      "cell_type": "code",
      "metadata": {
        "colab": {
          "base_uri": "https://localhost:8080/"
        },
        "id": "mtDaJ07ft6rP",
        "outputId": "a492d0b1-3ab7-4bdd-a9c6-c7e6edf8a922"
      },
      "source": [
        "print(convertirARomanos(1672))"
      ],
      "execution_count": 104,
      "outputs": [
        {
          "output_type": "stream",
          "text": [
            "MDCLXXII\n"
          ],
          "name": "stdout"
        }
      ]
    }
  ]
}
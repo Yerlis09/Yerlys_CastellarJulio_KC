{
  "nbformat": 4,
  "nbformat_minor": 0,
  "metadata": {
    "colab": {
      "name": "taller_1.ipynb",
      "provenance": [],
      "authorship_tag": "ABX9TyOxJqiy33YskXVmpeToGL6k",
      "include_colab_link": true
    },
    "kernelspec": {
      "name": "python3",
      "display_name": "Python 3"
    },
    "language_info": {
      "name": "python"
    }
  },
  "cells": [
    {
      "cell_type": "markdown",
      "metadata": {
        "id": "view-in-github",
        "colab_type": "text"
      },
      "source": [
        "<a href=\"https://colab.research.google.com/github/Yerlis09/Yerlys_CastellarJulio_KC/blob/main/taller_1.ipynb\" target=\"_parent\"><img src=\"https://colab.research.google.com/assets/colab-badge.svg\" alt=\"Open In Colab\"/></a>"
      ]
    },
    {
      "cell_type": "code",
      "metadata": {
        "id": "AfDAjdImZViA"
      },
      "source": [
        "import numpy as np\n",
        "import time"
      ],
      "execution_count": null,
      "outputs": []
    },
    {
      "cell_type": "markdown",
      "metadata": {
        "id": "LoZY8PuzZEJA"
      },
      "source": [
        "**Taller 1**\n",
        "\n",
        "\n",
        "1.\tTienen el siguiente arreglo : \n",
        "arr = np.array([0, 1, 2, 3, 4, 5, 6, 7, 8, 9])\n",
        "Como es posible obtener el siguiente resultado:\n",
        "array([ 0, -1,  2, -1,  4, -1,  6, -1,  8, -1])\n",
        "\n",
        "\n"
      ]
    },
    {
      "cell_type": "markdown",
      "metadata": {
        "id": "k3QlczTrLSS-"
      },
      "source": [
        "**Primera Alternativa**"
      ]
    },
    {
      "cell_type": "code",
      "metadata": {
        "colab": {
          "base_uri": "https://localhost:8080/"
        },
        "id": "F4itvZjIJwE9",
        "outputId": "eb829973-01f3-4c53-f6d7-b855da607d4f"
      },
      "source": [
        "arr = np.array([0,1,2,3,4,5,6,7,8,9]) \n",
        "arr1 = (np.delete(arr,(1,3,5,7,9)))\n",
        "indices = [1,2,3,4,5]\n",
        "print(np.insert(arr1,(indices),-1))"
      ],
      "execution_count": null,
      "outputs": [
        {
          "output_type": "stream",
          "text": [
            "[ 0 -1  2 -1  4 -1  6 -1  8 -1]\n"
          ],
          "name": "stdout"
        }
      ]
    },
    {
      "cell_type": "markdown",
      "metadata": {
        "id": "3KcyiIKOLYPj"
      },
      "source": [
        "**Segunda Alternativa**"
      ]
    },
    {
      "cell_type": "code",
      "metadata": {
        "colab": {
          "base_uri": "https://localhost:8080/"
        },
        "id": "WsPtOwmNZDbw",
        "outputId": "393b4f53-ecee-40ce-d810-94fcac852aac"
      },
      "source": [
        "arr = np.array([0,1,2,3,4,5,6,7,8,9])\n",
        "indices = [1,3,5,7,9]\n",
        "arr.put(indices,-1)\n",
        "print(arr)"
      ],
      "execution_count": null,
      "outputs": [
        {
          "output_type": "stream",
          "text": [
            "[ 0 -1  2 -1  4 -1  6 -1  8 -1]\n"
          ],
          "name": "stdout"
        }
      ]
    },
    {
      "cell_type": "markdown",
      "metadata": {
        "id": "f1njfj7fTZEy"
      },
      "source": [
        "**Tercera Alternativa**"
      ]
    },
    {
      "cell_type": "code",
      "metadata": {
        "colab": {
          "base_uri": "https://localhost:8080/"
        },
        "id": "7IssnvzzTE_F",
        "outputId": "0fccc847-7618-428f-9cb4-e889b77db0ab"
      },
      "source": [
        "arr = np.array([0,1,2,3,4,5,6,7,8,9])\n",
        "indices = [1,3,5,7,9]\n",
        "arr[indices] = -1\n",
        "print(arr)"
      ],
      "execution_count": 100,
      "outputs": [
        {
          "output_type": "stream",
          "text": [
            "[ 0 -1  2 -1  4 -1  6 -1  8 -1]\n"
          ],
          "name": "stdout"
        }
      ]
    },
    {
      "cell_type": "markdown",
      "metadata": {
        "id": "s8QifgyUj5xj"
      },
      "source": [
        "2.\tTienen el siguiente input:\n",
        "np.arange(10)\n",
        "Como se puede hacer para obtener el siguiente resultado:\n",
        "#> array([[0, 1, 2, 3, 4],\n",
        "#>        [5, 6, 7, 8, 9]])\n"
      ]
    },
    {
      "cell_type": "code",
      "metadata": {
        "colab": {
          "base_uri": "https://localhost:8080/"
        },
        "id": "wgyiIAuEj8LF",
        "outputId": "5405ca08-c0c0-4b5e-abc8-09f2d176e20b"
      },
      "source": [
        "arr = np.arange(10).reshape((2,5))\n",
        "print(arr)"
      ],
      "execution_count": null,
      "outputs": [
        {
          "output_type": "stream",
          "text": [
            "[[0 1 2 3 4]\n",
            " [5 6 7 8 9]]\n"
          ],
          "name": "stdout"
        }
      ]
    },
    {
      "cell_type": "markdown",
      "metadata": {
        "id": "OrRX1bYPmRCS"
      },
      "source": [
        "3.\tCon base en el siguiente input:\n",
        "a = np.arange(10).reshape(2,-1)\n",
        "b = np.repeat(1, 10).reshape(2,-1)\n",
        "\n",
        "Obtener el siguiente resultado\n",
        "#> array([[0, 1, 2, 3, 4],\n",
        "#>        [5, 6, 7, 8, 9],\n",
        "#>        [1, 1, 1, 1, 1],\n",
        "#>        [1, 1, 1, 1, 1]])\n",
        "\n"
      ]
    },
    {
      "cell_type": "code",
      "metadata": {
        "colab": {
          "base_uri": "https://localhost:8080/"
        },
        "id": "eSCiRx8umVgO",
        "outputId": "99b7ba63-cd8e-4bb6-dd8e-25dc9794beb4"
      },
      "source": [
        "a = np.arange(10).reshape(2,-1)\n",
        "b = np.repeat(1, 10).reshape(2,-1)\n",
        "print(np.concatenate((a,b), axis=0))\n"
      ],
      "execution_count": 105,
      "outputs": [
        {
          "output_type": "stream",
          "text": [
            "[[0 1 2 3 4]\n",
            " [5 6 7 8 9]\n",
            " [1 1 1 1 1]\n",
            " [1 1 1 1 1]]\n"
          ],
          "name": "stdout"
        }
      ]
    },
    {
      "cell_type": "markdown",
      "metadata": {
        "id": "ydXBPj-_oL1A"
      },
      "source": [
        "4.\tCon base en el siguiente input:\n",
        "a = np.array([1,2,3,2,3,4,3,4,5,6])\n",
        "b = np.array([7,2,10,2,7,4,9,4,9,8])\n",
        "Obtener el siguiente output\n",
        "array([2, 4])\n"
      ]
    },
    {
      "cell_type": "code",
      "metadata": {
        "colab": {
          "base_uri": "https://localhost:8080/"
        },
        "id": "9EPRyuXCoRmR",
        "outputId": "da9fef18-c0df-489d-dc8c-707d77f4383b"
      },
      "source": [
        "a = np.array([1,2,3,2,3,4,3,4,5,6])\n",
        "b = np.array([7,2,10,2,7,4,9,4,9,8])\n",
        "print(np.intersect1d(a, b))"
      ],
      "execution_count": 89,
      "outputs": [
        {
          "output_type": "stream",
          "text": [
            "[2 4]\n"
          ],
          "name": "stdout"
        }
      ]
    },
    {
      "cell_type": "markdown",
      "metadata": {
        "id": "PXJ-Uxnavc9R"
      },
      "source": [
        "5.\tDel siguiente input:\n",
        "a = np.array([1,2,3,4,5])\n",
        "b = np.array([5,6,7,8,9])\n",
        "Obtener el siguiente output\n",
        "array([1,2,3,4])\n",
        "\n"
      ]
    },
    {
      "cell_type": "code",
      "metadata": {
        "colab": {
          "base_uri": "https://localhost:8080/"
        },
        "id": "5X0fsOBXvmRE",
        "outputId": "6633f5d5-bc1b-492b-a2af-f4f9f033c256"
      },
      "source": [
        "a = np.array([1,2,3,4,5])\n",
        "b = np.array([5,6,7,8,9])\n",
        "c = np.concatenate((a,b))\n",
        "print(c[0:4])\n"
      ],
      "execution_count": 103,
      "outputs": [
        {
          "output_type": "stream",
          "text": [
            "[1 2 3 4]\n"
          ],
          "name": "stdout"
        }
      ]
    },
    {
      "cell_type": "markdown",
      "metadata": {
        "id": "JVAqeHr7WJps"
      },
      "source": [
        "6.\tCon el siguiente input:\n",
        "a = np.array([2, 6, 1, 9, 10, 3, 27])\n",
        "Obtener:\n",
        "(array([6, 9, 10]),)\n"
      ]
    },
    {
      "cell_type": "code",
      "metadata": {
        "colab": {
          "base_uri": "https://localhost:8080/"
        },
        "id": "7vQI0xXxWQhW",
        "outputId": "2e6bba9a-48b4-417d-e407-d99fb8fd3529"
      },
      "source": [
        "a = np.array([2, 6, 1, 9, 10, 3, 27]) \n",
        "indices=[1,3,4]\n",
        "print(a[indices])\n"
      ],
      "execution_count": 116,
      "outputs": [
        {
          "output_type": "stream",
          "text": [
            "[ 6  9 10]\n"
          ],
          "name": "stdout"
        }
      ]
    },
    {
      "cell_type": "markdown",
      "metadata": {
        "id": "T091WbO2YgKV"
      },
      "source": [
        "7.\tInvertir las filas de un arreglo de matriz 2D\n",
        "arr = np.arange(9).reshape(3,3)\n",
        "Output deseado:\n",
        "array([[6, 7, 8],\n",
        "       [3, 4, 5],\n",
        "       [0, 1, 2]])\n"
      ]
    },
    {
      "cell_type": "code",
      "metadata": {
        "colab": {
          "base_uri": "https://localhost:8080/"
        },
        "id": "uf75_hG5Yldx",
        "outputId": "7eee23f0-134d-4dec-9770-10066e76ea32"
      },
      "source": [
        "arr = np.arange(9).reshape(3,3) \n",
        "arr[::-1]"
      ],
      "execution_count": 114,
      "outputs": [
        {
          "output_type": "execute_result",
          "data": {
            "text/plain": [
              "array([[6, 7, 8],\n",
              "       [3, 4, 5],\n",
              "       [0, 1, 2]])"
            ]
          },
          "metadata": {
            "tags": []
          },
          "execution_count": 114
        }
      ]
    }
  ]
}